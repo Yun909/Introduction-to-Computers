{
  "nbformat": 4,
  "nbformat_minor": 0,
  "metadata": {
    "colab": {
      "provenance": [],
      "authorship_tag": "ABX9TyPxbDg7cXQeGiolNhnckWeA",
      "include_colab_link": true
    },
    "kernelspec": {
      "name": "python3",
      "display_name": "Python 3"
    },
    "language_info": {
      "name": "python"
    }
  },
  "cells": [
    {
      "cell_type": "markdown",
      "metadata": {
        "id": "view-in-github",
        "colab_type": "text"
      },
      "source": [
        "<a href=\"https://colab.research.google.com/github/Yun909/Introduction-to-Computers/blob/main/0517.ipynb\" target=\"_parent\"><img src=\"https://colab.research.google.com/assets/colab-badge.svg\" alt=\"Open In Colab\"/></a>"
      ]
    },
    {
      "cell_type": "code",
      "source": [
        "score= int(input(\"score: \"))\n",
        "if score>=90:\n",
        "  print('Grade is:A')\n",
        "else:\n",
        "  print('Grade is F')"
      ],
      "metadata": {
        "colab": {
          "base_uri": "https://localhost:8080/"
        },
        "id": "57_DfVf1zaTf",
        "outputId": "c58a13d9-da7f-4e1a-ff42-4fbcc31c3924"
      },
      "execution_count": 2,
      "outputs": [
        {
          "output_type": "stream",
          "name": "stdout",
          "text": [
            "score: 99\n",
            "Grade is:A\n"
          ]
        }
      ]
    },
    {
      "cell_type": "code",
      "execution_count": 1,
      "metadata": {
        "colab": {
          "base_uri": "https://localhost:8080/"
        },
        "id": "RPcyzFOeypaF",
        "outputId": "20056c3d-e178-47d4-dd32-cf46027d65dd"
      },
      "outputs": [
        {
          "output_type": "stream",
          "name": "stdout",
          "text": [
            "score: 50\n",
            "Grade is: F\n"
          ]
        }
      ],
      "source": [
        "score = int(input(\"score: \"))\n",
        "if score >= 90:\n",
        "    print('Grade is: A')\n",
        "elif score >= 80:\n",
        "    print('Grade is: B')\n",
        "elif score >= 70:\n",
        "    print('Grade is: C')\n",
        "elif score >= 60:\n",
        "    print('Grade is: D')\n",
        "else:\n",
        "    print('Grade is: F')"
      ]
    },
    {
      "cell_type": "code",
      "source": [
        "T=float(input(\"temperature: \"))\n",
        "if T >=37.5:\n",
        "  print('體溫過高!')\n",
        "elif T<=37.4 and T>=37 :\n",
        "  print('體溫略高!')\n",
        "elif T<=36.9 and T>=34:\n",
        "  print('體溫正常!')\n",
        "else:\n",
        "  print('體溫異常，請重新量測!')"
      ],
      "metadata": {
        "colab": {
          "base_uri": "https://localhost:8080/"
        },
        "id": "DeZUptj3zzEN",
        "outputId": "ebad8502-1ef7-4eb5-a53e-4049eaccbd56"
      },
      "execution_count": 7,
      "outputs": [
        {
          "output_type": "stream",
          "name": "stdout",
          "text": [
            "temperature: 37.5\n",
            "體溫過高!\n"
          ]
        }
      ]
    },
    {
      "cell_type": "code",
      "source": [
        "score = int(input(\"請輸入成績: \"))\n",
        "if score >= 90:\n",
        "    print('A')\n",
        "elif score >= 80:\n",
        "    print('B')\n",
        "elif score >= 70:\n",
        "    print('C')\n",
        "elif score >= 60:\n",
        "    print('D')\n",
        "else:\n",
        "    print('E')"
      ],
      "metadata": {
        "colab": {
          "base_uri": "https://localhost:8080/"
        },
        "id": "m7qLBULr2Dio",
        "outputId": "3ae7113a-16e3-424f-9487-fa9610eb5d21"
      },
      "execution_count": 13,
      "outputs": [
        {
          "output_type": "stream",
          "name": "stdout",
          "text": [
            "請輸入成績: 50\n",
            "E\n"
          ]
        }
      ]
    },
    {
      "cell_type": "code",
      "source": [
        "season= int(input(\"請輸入月份:\"))\n",
        "if season == 3 or  season ==  4 or  season == 5 :\n",
        "  print(\"%s月是春天\" %season)\n",
        "elif season == 6 or  season ==7 or  season ==8 :\n",
        "  print(\"%s月是夏天\" %season)\n",
        "elif season == 9 or  season ==10 or  season ==11 :\n",
        "  print(\"%s月是秋天\" %season)\n",
        "elif season == 12 or  season ==1 or  season ==2:\n",
        "  print(\"%s月是冬天\" %season)\n",
        "else:\n",
        "  print(\"月份不存在範圍內\")"
      ],
      "metadata": {
        "colab": {
          "base_uri": "https://localhost:8080/"
        },
        "id": "EjeZZc7P234s",
        "outputId": "148394c1-01eb-46c3-c004-ef1bdfac8690"
      },
      "execution_count": 42,
      "outputs": [
        {
          "output_type": "stream",
          "name": "stdout",
          "text": [
            "請輸入月份:2\n",
            "2月是冬天\n"
          ]
        }
      ]
    },
    {
      "cell_type": "code",
      "source": [
        "money=float(input(\"請輸入收入金額: \"))\n",
        "if money <= 300000:\n",
        "  print('付稅金額: 0')\n",
        "elif money >= 300000:\n",
        "  print(\"付稅金額: \",money*0.06)\n",
        "elif money >= 600000:\n",
        "  print(\"付稅金額: \",money*0.13) \n",
        "elif money >=1000000 and money<2000000:\n",
        "  print(\"付稅金額: \",money*0.21)  \n",
        "else:\n",
        "  print(\"付稅金額: \",money*0.3)\n",
        " "
      ],
      "metadata": {
        "colab": {
          "base_uri": "https://localhost:8080/"
        },
        "id": "OZpiX58G6-9f",
        "outputId": "af8e66b9-ef28-4475-d355-4904c5dfb665"
      },
      "execution_count": 34,
      "outputs": [
        {
          "output_type": "stream",
          "name": "stdout",
          "text": [
            "請輸入收入金額: 1000000\n",
            "付稅金額:  60000.0\n"
          ]
        }
      ]
    }
  ]
}