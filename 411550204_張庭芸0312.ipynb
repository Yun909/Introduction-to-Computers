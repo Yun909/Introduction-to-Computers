{
  "cells": [
    {
      "cell_type": "markdown",
      "metadata": {
        "id": "view-in-github",
        "colab_type": "text"
      },
      "source": [
        "<a href=\"https://colab.research.google.com/github/Yun909/Introduction-to-Computers/blob/main/411550204_%E5%BC%B5%E5%BA%AD%E8%8A%B80312.ipynb\" target=\"_parent\"><img src=\"https://colab.research.google.com/assets/colab-badge.svg\" alt=\"Open In Colab\"/></a>"
      ]
    },
    {
      "cell_type": "code",
      "execution_count": null,
      "metadata": {
        "colab": {
          "base_uri": "https://localhost:8080/"
        },
        "id": "qkppjFbhutoF",
        "outputId": "f348b692-eb60-481d-d175-686461dbeccd"
      },
      "outputs": [
        {
          "name": "stdout",
          "output_type": "stream",
          "text": [
            "請輸入國文成績88\n",
            "請輸入英文成績96\n",
            "你的總分為： 184\n"
          ]
        }
      ],
      "source": [
        "a=int(input(\"請輸入國文成績\"))\n",
        "b=int(input(\"請輸入英文成績\"))\n",
        "total=int(a)+int(b)\n",
        "print(\"你的總分為：\",total)"
      ]
    },
    {
      "cell_type": "code",
      "execution_count": null,
      "metadata": {
        "colab": {
          "base_uri": "https://localhost:8080/"
        },
        "id": "Y2gX34bbxxYP",
        "outputId": "4ada67e4-797c-41f1-a012-4c90a4cccc19"
      },
      "outputs": [
        {
          "output_type": "stream",
          "name": "stdout",
          "text": [
            "請輸入你的身高（cm):157\n",
            "請輸入你的體重(kg):43\n",
            "BMI為:17.44\n"
          ]
        }
      ],
      "source": [
        "a=int(input(\"請輸入你的身高（cm):\"))\n",
        "b=int(input(\"請輸入你的體重(kg):\"))\n",
        "c=a/100\n",
        "bmi=b/(c**2)\n",
        "print(\"BMI為:%3.2f\"%bmi)"
      ]
    }
  ],
  "metadata": {
    "colab": {
      "provenance": [],
      "authorship_tag": "ABX9TyMEDbVMceCTSD3ZXFgjJXw4",
      "include_colab_link": true
    },
    "kernelspec": {
      "display_name": "Python 3",
      "name": "python3"
    },
    "language_info": {
      "name": "python"
    }
  },
  "nbformat": 4,
  "nbformat_minor": 0
}