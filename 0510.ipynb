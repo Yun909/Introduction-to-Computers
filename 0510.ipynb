{
  "nbformat": 4,
  "nbformat_minor": 0,
  "metadata": {
    "colab": {
      "provenance": [],
      "authorship_tag": "ABX9TyMZcCOWGZUjhiivAvM7l34F",
      "include_colab_link": true
    },
    "kernelspec": {
      "name": "python3",
      "display_name": "Python 3"
    },
    "language_info": {
      "name": "python"
    }
  },
  "cells": [
    {
      "cell_type": "markdown",
      "metadata": {
        "id": "view-in-github",
        "colab_type": "text"
      },
      "source": [
        "<a href=\"https://colab.research.google.com/github/Yun909/Introduction-to-Computers/blob/main/0510.ipynb\" target=\"_parent\"><img src=\"https://colab.research.google.com/assets/colab-badge.svg\" alt=\"Open In Colab\"/></a>"
      ]
    },
    {
      "cell_type": "code",
      "execution_count": 2,
      "metadata": {
        "id": "FdVEPVOZuKFi",
        "colab": {
          "base_uri": "https://localhost:8080/"
        },
        "outputId": "9be7edaa-ed33-4845-b298-b1efbe0f3400"
      },
      "outputs": [
        {
          "output_type": "stream",
          "name": "stdout",
          "text": [
            "請輸入分數: 60\n",
            "及格\n"
          ]
        }
      ],
      "source": [
        "score=int(input(\"請輸入分數: \"))\n",
        "if score>=60:\n",
        "  print(\"及格\")\n",
        "else:\n",
        "  print(\"不及格\")"
      ]
    },
    {
      "cell_type": "code",
      "source": [
        "password =int(input(\"請輸入密碼: \"))\n",
        "if password== 9988 :\n",
        "  print(\"歡迎光臨\")\n",
        "else:\n",
        "  print(\" \")\n"
      ],
      "metadata": {
        "colab": {
          "base_uri": "https://localhost:8080/"
        },
        "id": "hYScyzLbwKux",
        "outputId": "f111902a-7240-4707-a9cf-9367a2d04470"
      },
      "execution_count": 3,
      "outputs": [
        {
          "output_type": "stream",
          "name": "stdout",
          "text": [
            "請輸入密碼: 4455\n",
            " \n"
          ]
        }
      ]
    },
    {
      "cell_type": "code",
      "source": [
        "n=int(input(\"請輸入一個數字: \"))\n",
        "b= n%2\n",
        "if(b==0):\n",
        "  print(\"是偶數\")\n",
        "else:\n",
        "  print(\"是奇數\")"
      ],
      "metadata": {
        "colab": {
          "base_uri": "https://localhost:8080/"
        },
        "id": "j9wGQnfG1EYZ",
        "outputId": "9360e297-7c89-4474-de61-fd40d006674f"
      },
      "execution_count": 7,
      "outputs": [
        {
          "output_type": "stream",
          "name": "stdout",
          "text": [
            "請輸入一個數字: 55\n",
            "是奇數\n"
          ]
        }
      ]
    },
    {
      "cell_type": "code",
      "source": [
        "print(\"今天會下雨嗎?\")\n",
        "e=input()\n",
        "if (rain==\"Y\" or rain==\"y\"):\n",
        "  print(\"出門記得帶傘\")\n",
        "else:\n",
        "  print(\"不用帶傘\")\n",
        "\n"
      ],
      "metadata": {
        "colab": {
          "base_uri": "https://localhost:8080/"
        },
        "id": "tMYSdvKP2M4Y",
        "outputId": "ad078d22-bc80-4211-8236-1e595c7c824d"
      },
      "execution_count": 10,
      "outputs": [
        {
          "output_type": "stream",
          "name": "stdout",
          "text": [
            "今天會下雨嗎?\n",
            "u\n",
            "不用帶傘\n"
          ]
        }
      ]
    },
    {
      "cell_type": "code",
      "source": [
        "password =int(input(\"請輸入密碼: \"))\n",
        "if password== 9988 :\n",
        "  print(\"歡迎光臨\")"
      ],
      "metadata": {
        "colab": {
          "base_uri": "https://localhost:8080/"
        },
        "id": "i6aLwPwM1pGT",
        "outputId": "412d53a2-8ff5-4cd4-cde8-c77eda355feb"
      },
      "execution_count": 5,
      "outputs": [
        {
          "name": "stdout",
          "output_type": "stream",
          "text": [
            "請輸入密碼: 5566\n"
          ]
        }
      ]
    }
  ]
}