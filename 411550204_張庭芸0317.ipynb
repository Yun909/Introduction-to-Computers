{
  "nbformat": 4,
  "nbformat_minor": 0,
  "metadata": {
    "colab": {
      "provenance": [],
      "authorship_tag": "ABX9TyOMIv9Ms5zA0l63vakBe0fP",
      "include_colab_link": true
    },
    "kernelspec": {
      "name": "python3",
      "display_name": "Python 3"
    },
    "language_info": {
      "name": "python"
    }
  },
  "cells": [
    {
      "cell_type": "markdown",
      "metadata": {
        "id": "view-in-github",
        "colab_type": "text"
      },
      "source": [
        "<a href=\"https://colab.research.google.com/github/Yun909/Introduction-to-Computers/blob/main/411550204_%E5%BC%B5%E5%BA%AD%E8%8A%B80317.ipynb\" target=\"_parent\"><img src=\"https://colab.research.google.com/assets/colab-badge.svg\" alt=\"Open In Colab\"/></a>"
      ]
    },
    {
      "cell_type": "code",
      "execution_count": null,
      "metadata": {
        "colab": {
          "base_uri": "https://localhost:8080/"
        },
        "id": "wSOYvTBpBjHw",
        "outputId": "342f7fd9-eb00-48f4-b438-a9baedc7d2e6"
      },
      "outputs": [
        {
          "output_type": "stream",
          "name": "stdout",
          "text": [
            "請輸入本金存款金額:12000\n",
            "12年後的存款為:21550.275912265563元\n"
          ]
        }
      ],
      "source": [
        "deposit=int(input(\"請輸入本金存款金額:\"))\n",
        "times=1.05**12\n",
        "deposit *= times\n",
        "print(\"12年後的存款為:{}元\".format(deposit))"
      ]
    },
    {
      "cell_type": "code",
      "source": [
        "km=int(input(\"請輸入公里數（整數）:\"))\n",
        "money=100+(km-2)*40\n",
        "print(\"總車費為:%d 元\"%money)"
      ],
      "metadata": {
        "colab": {
          "base_uri": "https://localhost:8080/"
        },
        "id": "MJjSb-kPC3PH",
        "outputId": "b0fac09b-789f-4511-8fbf-0950d5d3f2ab"
      },
      "execution_count": null,
      "outputs": [
        {
          "output_type": "stream",
          "name": "stdout",
          "text": [
            "請輸入公里數（整數）:7\n",
            "總車費為:300 元\n"
          ]
        }
      ]
    }
  ]
}